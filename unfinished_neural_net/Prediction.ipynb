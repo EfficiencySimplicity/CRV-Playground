{
 "cells": [
  {
   "cell_type": "code",
   "execution_count": 1,
   "metadata": {},
   "outputs": [],
   "source": [
    "# \"You shall know a word by the company it keeps\" - J. R. Firth\n",
    "\n",
    "################ CRV Playground V1.0 ################\n",
    "################# Joshua Ward, 2025 #################"
   ]
  },
  {
   "cell_type": "code",
   "execution_count": 5,
   "metadata": {},
   "outputs": [],
   "source": [
    "from classes.Utils import *\n",
    "from classes.CRV import *\n",
    "from classes.Corpus import *\n",
    "from classes.Vectorizer import *"
   ]
  },
  {
   "cell_type": "code",
   "execution_count": 11,
   "metadata": {},
   "outputs": [
    {
     "name": "stdout",
     "output_type": "stream",
     "text": [
      "Data collected:\n",
      "    - 4107 unique words found.\n",
      "    - most common words: ['\\n', '-', '.', '1', ',']\n",
      "    - least common words: ['www', 'yet', 'zinfandel', 'zip', 'zipper']\n",
      "\n",
      "\n",
      "Corpus loaded:\n",
      "    - 5000 sentences.\n",
      "    - longest sentence: \n",
      "\n",
      "<START> whole wheat yeast bread \n",
      " \n",
      " ingredients : \n",
      " - 1 cup ( 2 2 5 ml ) scalded milk \n",
      " - 1 / 4 cup ( 6 0 ml ) lard \n",
      " - 4 tsp ( 2 0 ml ) . salt \n",
      " - 1 / 4 cup ( 6 0 ml ) honey \n",
      " - 1 cup ( 2 2 5 ml ) water , 1 1 0 - 1 1 5 degrees \n",
      " - 2 pkg . dry yeast \n",
      " - 2 tbsp ( 3 0 ml ) . brown sugar \n",
      " - 2 cups ( 4 7 5 ml ) whole wheat flour \n",
      " - 3 cups ( 7 0 0 ml ) or more white flour \n",
      " \n",
      " directions : \n",
      " - mix scalded milk , lard , salt & honey and let cool to lukewarm - about 8 5 degrees ( 3 0 c . ) . \n",
      " - mix water , yeast & brown sugar and let stand to dissolve for 2 - 3 minutes . \n",
      " - add yeast mixture to milk mixture . \n",
      " - add whole wheat flour and enough white flour to make dough . \n",
      " - mix well . \n",
      " - knead 5 - 1 0 minutes . \n",
      " - put in bowl to rise until double in size . \n",
      " - punch down and divide into two portions . \n",
      " - let rest 5 - 1 0 minutes and then shape into two loaves . \n",
      " - let rise in pans one hour or until double in bulk . \n",
      " - bake at 3 7 5 degrees ( 2 0 0 c . ) for 5 minutes and 3 5 0 degrees ( 1 7 5 c . ) for 3 0 - 3 5 minutes . \n",
      " - remove from pans and let cool thoroughly before wrapping <END>\n",
      ".    \n",
      "    - shortest sentence: \n",
      "\n",
      "<START> test \n",
      " \n",
      " ingredients : \n",
      " - 1 kg pork \n",
      " \n",
      " directions : \n",
      " - combine the first 3 ingredients <END>\n",
      "Signatures collected:\n",
      "    - highest best signature: ['directions', ('\\n', 0.7314382896015549)] & 0 others.\n",
      "    - lowest best signature: ['its', ('-', 0.039473684210526314)] & 0 others.\n",
      "Vectorizer created:\n",
      "    - 4107 unique words;\n",
      "    - 3369 CRV words\n"
     ]
    }
   ],
   "source": [
    "# lemmatization is not recommended; it adds more meanings to a word,\n",
    "# thus making it harder to understand. bake has a different meaning than 'baking',\n",
    "# and stuffing them all into one word leads to mild confusion.\n",
    "\n",
    "# Note: if you run every cell in this notebook, the corpus will be replaced with a new one\n",
    "# and the cells between this one and the new corpus one will no longer work,\n",
    "# as they are intended for use with recipes.\n",
    "\n",
    "corpus = Corpus(\n",
    "    filepath      = 'corpora/recipes',\n",
    "    spell_correct = 'corpora/spelling_dictionary',\n",
    "    lemmatize     = False,\n",
    "    removal_threshold = 1)\n",
    "\n",
    "signatures = corpus.create_signatures(2)\n",
    "vectorizer = corpus.create_vectorizer(removal_threshold = 2)\n",
    "# vectorizer.normalize()"
   ]
  },
  {
   "cell_type": "code",
   "execution_count": null,
   "metadata": {},
   "outputs": [
    {
     "name": "stdout",
     "output_type": "stream",
     "text": [
      "x\n",
      "{'9': 331, '3': 108, '8': 60, '1': 57, '2': 57, '0': 31, '5': 22, '4': 13, '7': 11, '\"': 10, '-': 7, '6': 7, \"'\": 1, '(': 1, '.': 1, '<START>': 1, 'an': 1, 'cm': 1, 'recipe': 1, 'shortbread': 1, 'side': 1, 'with': 1}\n",
      "{'9': 0.3778538812785388, 'shortbread': 0.2, '\"': 0.037037037037037035, 'cm': 0.037037037037037035, '8': 0.029484029484029485, '7': 0.015471167369901548, '3': 0.01330540840211901, '0': 0.005551575931232092, '5': 0.0043720190779014305, '6': 0.00398406374501992, 'recipe': 0.0038022813688212928, 'side': 0.0035087719298245615, '2': 0.0032353275059598136, 'an': 0.0028169014084507044, '1': 0.0017485735321185348, '4': 0.0016924879572972268, \"'\": 0.0012360939431396785, '<START>': 0.0002, 'with': 0.00019611688566385565, '(': 0.00018646280067126608, '-': 0.00010198432355255106, '.': 2.1610407572286814e-05}\n"
     ]
    }
   ],
   "source": [
    "search_word = 'x'#random.choice(random.choice(corpus.sentences)[1:])\n",
    "before_percentages = defaultdict(int)\n",
    "\n",
    "print(search_word)\n",
    "\n",
    "for sentence in corpus.sentences:\n",
    "    for i, word in enumerate(sentence[1:]):\n",
    "        if word == search_word:\n",
    "            before_percentages[sentence[i]] += 1\n",
    "            \n",
    "print(sort_hl(before_percentages))\n",
    "\n",
    "for word in before_percentages:\n",
    "    before_percentages[word] /= corpus.word_counts[word]\n",
    "\n",
    "print(sort_hl(before_percentages))\n",
    "# what differentiates from all other words?..."
   ]
  },
  {
   "cell_type": "code",
   "execution_count": null,
   "metadata": {},
   "outputs": [],
   "source": [
    "# matrix = np.zeros((len(before_percentages), len(before_percentages)))\n",
    "# for x, i in enumerate(before_percentages):\n",
    "#     for y, j in enumerate(before_percentages):\n",
    "#         matrix[x, y] = sum(np.minimum(vectorizer[i], vectorizer[j]))\n",
    "\n",
    "# for threshold in range(0, 10, 1):\n",
    "#     nm = matrix\n",
    "#     nm *= 1 - np.flip(np.tri(len(before_percentages)), axis = (0, 1))\n",
    "#     nm /= np.max(nm)\n",
    "#     nm = nm > threshold / 10\n",
    "#     plt.figure(figsize = (10, 10))\n",
    "#     plt.imshow(nm)\n",
    "#     plt.show()"
   ]
  },
  {
   "cell_type": "code",
   "execution_count": 8,
   "metadata": {},
   "outputs": [],
   "source": [
    "for sentence in corpus.sentences:\n",
    "    for i, word in enumerate(sentence[1:]):\n",
    "        if word != 'olive' and sentence[i] == 'virgin':\n",
    "            print(concat_sentence(sentence))"
   ]
  }
 ],
 "metadata": {
  "kernelspec": {
   "display_name": ".venv",
   "language": "python",
   "name": "python3"
  },
  "language_info": {
   "codemirror_mode": {
    "name": "ipython",
    "version": 3
   },
   "file_extension": ".py",
   "mimetype": "text/x-python",
   "name": "python",
   "nbconvert_exporter": "python",
   "pygments_lexer": "ipython3",
   "version": "3.13.5"
  }
 },
 "nbformat": 4,
 "nbformat_minor": 2
}
